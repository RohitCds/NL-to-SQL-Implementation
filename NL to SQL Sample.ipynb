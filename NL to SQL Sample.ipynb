{
 "cells": [
  {
   "cell_type": "code",
   "execution_count": 1,
   "id": "115f815d",
   "metadata": {},
   "outputs": [],
   "source": [
    "import sqlite3\n",
    "import pandas as pd"
   ]
  },
  {
   "cell_type": "markdown",
   "id": "d3b1ab2c",
   "metadata": {},
   "source": [
    "sqlite3 is a built-in Python library for working with SQLite databases.\n",
    "SQLite is serverless (unlike MySQL or PostgreSQL), meaning it stores everything in a single file (.db) instead of needing a separate database server. Adds to the convenience of this small scale implementation."
   ]
  },
  {
   "cell_type": "code",
   "execution_count": 3,
   "id": "0c0cd914",
   "metadata": {},
   "outputs": [
    {
     "name": "stdout",
     "output_type": "stream",
     "text": [
      "   id name   department  salary\n",
      "0   2  Bob  Engineering   75000\n"
     ]
    }
   ],
   "source": [
    "def setup_database():\n",
    "    conn = sqlite3.connect(\"sample.db\")  # Connects to SQLite database (creates it if not exists).\n",
    "    cursor = conn.cursor()  # Creates a cursor to execute SQL commands. It basically acts as a tool that sends SQL queries to the database and retrieves results.\n",
    "    \n",
    "    # Creating sample tables\n",
    "    cursor.execute(\"\"\"\n",
    "        CREATE TABLE IF NOT EXISTS employees (\n",
    "            id INTEGER PRIMARY KEY, \n",
    "            name TEXT, \n",
    "            department TEXT, \n",
    "            salary INTEGER\n",
    "        )\n",
    "    \"\"\")\n",
    "    \n",
    "    cursor.execute(\"\"\"\n",
    "        CREATE TABLE IF NOT EXISTS orders (\n",
    "            order_id INTEGER PRIMARY KEY, \n",
    "            customer_name TEXT, \n",
    "            amount REAL\n",
    "        )\n",
    "    \"\"\")\n",
    "    \n",
    "    # Inserting sample data\n",
    "    cursor.executemany(\"INSERT INTO employees (name, department, salary) VALUES (?, ?, ?)\", [\n",
    "        (\"Alice\", \"HR\", 50000),\n",
    "        (\"Bob\", \"Engineering\", 75000),\n",
    "        (\"Charlie\", \"Marketing\", 60000)\n",
    "    ])\n",
    "    \n",
    "    cursor.executemany(\"INSERT INTO orders (customer_name, amount) VALUES (?, ?)\", [\n",
    "        (\"Alice\", 120.50),\n",
    "        (\"Bob\", 300.00),\n",
    "        (\"Charlie\", 150.75)\n",
    "    ])\n",
    "    \n",
    "    conn.commit()\n",
    "    conn.close()\n",
    "\n",
    "def execute_query(query):\n",
    "    #This will be our function to execute a query and get the result.\n",
    "    conn = sqlite3.connect(\"sample.db\")\n",
    "    result = pd.read_sql_query(query, conn)\n",
    "    #This line executes an SQL query on the SQLite database and returns the result as a Pandas DataFrame.\n",
    "    conn.close()\n",
    "    return result\n",
    "\n",
    "# We setup the database\n",
    "setup_database()\n",
    "\n",
    "# Example test query\n",
    "query = \"SELECT * FROM employees WHERE department = 'Engineering'\"\n",
    "print(execute_query(query))\n"
   ]
  },
  {
   "cell_type": "markdown",
   "id": "f8843c57",
   "metadata": {},
   "source": [
    "## Importing and loading a NL to SQL model "
   ]
  },
  {
   "cell_type": "code",
   "execution_count": 37,
   "id": "bb62c93a",
   "metadata": {},
   "outputs": [
    {
     "data": {
      "application/vnd.jupyter.widget-view+json": {
       "model_id": "b3df814abcc0407ca08f732a8536cc73",
       "version_major": 2,
       "version_minor": 0
      },
      "text/plain": [
       "model.safetensors:   0%|          | 0.00/1.63G [00:00<?, ?B/s]"
      ]
     },
     "metadata": {},
     "output_type": "display_data"
    },
    {
     "data": {
      "application/vnd.jupyter.widget-view+json": {
       "model_id": "c7362c37e4e7424ca7c973c7fa2169c1",
       "version_major": 2,
       "version_minor": 0
      },
      "text/plain": [
       "generation_config.json:   0%|          | 0.00/406 [00:00<?, ?B/s]"
      ]
     },
     "metadata": {},
     "output_type": "display_data"
    }
   ],
   "source": [
    "from transformers import AutoTokenizer, AutoModelForSeq2SeqLM\n",
    "import torch\n",
    "\n",
    "# Force CPU (since your laptop doesn't have enough VRAM)\n",
    "device = torch.device(\"cpu\")\n",
    "\n",
    "# Model name\n",
    "model_name = \"SwastikM/bart-large-nl2sql\"\n",
    "\n",
    "# Load tokenizer & model\n",
    "tokenizer = AutoTokenizer.from_pretrained(model_name)\n",
    "model = AutoModelForSeq2SeqLM.from_pretrained(model_name).to(device)\n",
    "\n",
    "#transformers → A library from Hugging Face for using pre-trained AI models.\n",
    "#AutoModelForSeq2SeqLM → Loads a sequence-to-sequence model (T5 in this case) that translates text to SQL.\n",
    "#AutoTokenizer → Converts natural language text into tokens that the model understands."
   ]
  },
  {
   "cell_type": "markdown",
   "id": "72b316b5",
   "metadata": {},
   "source": [
    "## Creating a function to generate the apt query when provided with user prompt and context"
   ]
  },
  {
   "cell_type": "code",
   "execution_count": 39,
   "id": "9e8bb16b",
   "metadata": {},
   "outputs": [
    {
     "name": "stdout",
     "output_type": "stream",
     "text": [
      "Generated SQL Query: SELECT * FROM employees WHERE salary > 50000;\n"
     ]
    }
   ],
   "source": [
    "# Function to generate SQL\n",
    "def generate_sql(nl_query, sql_schema):\n",
    "    query_question_with_context = f\"sql_prompt: {nl_query} sql_context: {sql_schema}\"\n",
    "    inputs = tokenizer(query_question_with_context, return_tensors=\"pt\").to(device)\n",
    "    #Converts text into numerical token IDs (which the model understands).\n",
    "    #return_tensors=\"pt\" → Returns PyTorch tensors (needed for model input).\n",
    "    # Generate SQL\n",
    "    outputs = model.generate(inputs.input_ids, max_new_tokens=100, do_sample=False)\n",
    "    #The model processes the input and generates output tokens.\n",
    "    sql_query = tokenizer.decode(outputs[0], skip_special_tokens=True)\n",
    "    #Converts tokenized output back to human-readable text.\n",
    "    return sql_query\n",
    "\n",
    "# Example Usage\n",
    "nl_query = \"Show me all employees with a salary above 50000\"\n",
    "sql_schema = \"CREATE TABLE employees (id INT, name TEXT, department TEXT, salary INT);\"\n",
    "\n",
    "sql_output = generate_sql(nl_query, sql_schema)\n",
    "print(\"Generated SQL Query:\", sql_output)\n",
    "\n",
    "\n"
   ]
  },
  {
   "cell_type": "markdown",
   "id": "e6ba20e7",
   "metadata": {},
   "source": [
    "## Running the query in connection with our sql database."
   ]
  },
  {
   "cell_type": "code",
   "execution_count": 40,
   "id": "33d2d6e2",
   "metadata": {},
   "outputs": [
    {
     "name": "stdout",
     "output_type": "stream",
     "text": [
      "Generated SQL Query: SELECT * FROM employees WHERE salary > 50000;\n",
      "   id     name   department  salary\n",
      "0   2      Bob  Engineering   75000\n",
      "1   3  Charlie    Marketing   60000\n"
     ]
    }
   ],
   "source": [
    "def process_nl_query(nl_query):\n",
    "    sql_schema = \"CREATE TABLE employees (id INT, name TEXT, department TEXT, salary INT);\"  # Ensure schema is passed\n",
    "    sql_query = generate_sql(nl_query, sql_schema)\n",
    "    print(\"Generated SQL Query:\", sql_query)  # Debugging\n",
    "    try:\n",
    "        result = execute_query(sql_query)\n",
    "        return result\n",
    "    except Exception as e:\n",
    "        return f\"Error executing query: {e}\"\n",
    "\n",
    "nl_query = \"List all employees earning more than 50000\"\n",
    "result = process_nl_query(nl_query)\n",
    "print(result)\n"
   ]
  },
  {
   "cell_type": "code",
   "execution_count": null,
   "id": "2521ca36",
   "metadata": {},
   "outputs": [],
   "source": [
    "#pip install streamlit\n",
    "#import streamlit as st\n",
    "\n",
    "#st.title(\"Natural Language to SQL Converter\")\n",
    "\n",
    "#nl_query = st.text_input(\"Enter your natural language query:\")\n",
    "\n",
    "#if st.button(\"Generate SQL and Execute\"):\n",
    "#    if nl_query:\n",
    "#        sql_query = generate_sql(nl_query)\n",
    "#        st.write(\"Generated SQL:\", sql_query)\n",
    "#        try:\n",
    "#            result = execute_query(sql_query)\n",
    "#            st.dataframe(result)\n",
    "#        except Exception as e:\n",
    "#            st.error(f\"Error executing query: {e}\")\n",
    "#streamlit run app.py##\n"
   ]
  }
 ],
 "metadata": {
  "kernelspec": {
   "display_name": "Python 3 (ipykernel)",
   "language": "python",
   "name": "python3"
  },
  "language_info": {
   "codemirror_mode": {
    "name": "ipython",
    "version": 3
   },
   "file_extension": ".py",
   "mimetype": "text/x-python",
   "name": "python",
   "nbconvert_exporter": "python",
   "pygments_lexer": "ipython3",
   "version": "3.11.5"
  }
 },
 "nbformat": 4,
 "nbformat_minor": 5
}
